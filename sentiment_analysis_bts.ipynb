{
  "nbformat": 4,
  "nbformat_minor": 0,
  "metadata": {
    "colab": {
      "name": "sentiment-analysis-bts.ipynb",
      "provenance": [],
      "collapsed_sections": [],
      "toc_visible": true,
      "mount_file_id": "1LtdDTqYZE_hA6wVpdb9AWBLjo46sI2iw",
      "authorship_tag": "ABX9TyPhDZZk+3vLfDfSYIai0ZUp",
      "include_colab_link": true
    },
    "kernelspec": {
      "name": "python3",
      "display_name": "Python 3"
    },
    "language_info": {
      "name": "python"
    }
  },
  "cells": [
    {
      "cell_type": "markdown",
      "metadata": {
        "id": "view-in-github",
        "colab_type": "text"
      },
      "source": [
        "<a href=\"https://colab.research.google.com/github/JackelinneSC/Data-Structure-II/blob/master/sentiment_analysis_bts.ipynb\" target=\"_parent\"><img src=\"https://colab.research.google.com/assets/colab-badge.svg\" alt=\"Open In Colab\"/></a>"
      ]
    },
    {
      "cell_type": "markdown",
      "source": [
        "**BTS Sentiment Analysis 💜**\n",
        "\n",
        "Sentiment analisys using comments from YT videos related to BTS in Jan 2021.\n",
        "The dataset used is extracted from Kaggle:\n",
        "https://www.kaggle.com/datasets/seungguini/bts-youtube-comments?select=bts_2021_1.csv\n"
      ],
      "metadata": {
        "id": "RpJF69bAwkZV"
      }
    },
    {
      "cell_type": "markdown",
      "source": [
        "Unzip dataset from Google Drive. Run this cell one time."
      ],
      "metadata": {
        "id": "ihby6VpOxRjw"
      }
    },
    {
      "cell_type": "code",
      "execution_count": null,
      "metadata": {
        "colab": {
          "base_uri": "https://localhost:8080/"
        },
        "id": "JdjZxwUxmjTl",
        "outputId": "d3466fcb-6363-416f-bf03-f270a8e526d0"
      },
      "outputs": [
        {
          "output_type": "stream",
          "name": "stdout",
          "text": [
            "Archive:  /content/drive/MyDrive/BTS YT Comment/bts_2021_1.csv.zip\n",
            "  inflating: /content/drive/MyDrive/BTS YT Comment/bts_2021_1.csv  \n"
          ]
        }
      ],
      "source": [
        "# !unzip \"/content/drive/MyDrive/BTS YT Comment/bts_2021_1.csv.zip\" -d \"/content/drive/MyDrive/BTS YT Comment/\""
      ]
    },
    {
      "cell_type": "markdown",
      "source": [
        "Check for GPU availability"
      ],
      "metadata": {
        "id": "ipir5QD9xp2v"
      }
    },
    {
      "cell_type": "code",
      "source": [
        "\n",
        "#print(\"GPU\", \"available!\" if tf.config.list_physical_devices(\"GPU\")else \"not available :(\")"
      ],
      "metadata": {
        "id": "LEy7CgWNxpL4"
      },
      "execution_count": null,
      "outputs": []
    },
    {
      "cell_type": "markdown",
      "source": [
        "Access our data and importing pandas."
      ],
      "metadata": {
        "id": "SOmdMLT9yE1I"
      }
    },
    {
      "cell_type": "code",
      "source": [
        "# Checkoyt the labels of our data\n",
        "import pandas as pd\n",
        "bts_df = pd.read_csv(\"/content/drive/MyDrive/BTS YT Comment/bts_2021_1.csv\")\n",
        "bts_df.head()"
      ],
      "metadata": {
        "colab": {
          "base_uri": "https://localhost:8080/",
          "height": 877
        },
        "id": "G2Wj6zUaxoZE",
        "outputId": "dc1a542a-7513-4658-9ce1-c2927bf224fe"
      },
      "execution_count": null,
      "outputs": [
        {
          "output_type": "execute_result",
          "data": {
            "text/plain": [
              "  query                                          url  \\\n",
              "0   bts  https://www.youtube.com/watch?v=S8GpX3SAeig   \n",
              "1   bts  https://www.youtube.com/watch?v=S8GpX3SAeig   \n",
              "2   bts  https://www.youtube.com/watch?v=S8GpX3SAeig   \n",
              "3   bts  https://www.youtube.com/watch?v=S8GpX3SAeig   \n",
              "4   bts  https://www.youtube.com/watch?v=S8GpX3SAeig   \n",
              "\n",
              "                                               title           upload_date  \\\n",
              "0  5 Hour BTS Piano Playlist | Study & Relax with...  2021-01-01T10:58:00Z   \n",
              "1  5 Hour BTS Piano Playlist | Study & Relax with...  2021-01-01T10:58:00Z   \n",
              "2  5 Hour BTS Piano Playlist | Study & Relax with...  2021-01-01T10:58:00Z   \n",
              "3  5 Hour BTS Piano Playlist | Study & Relax with...  2021-01-01T10:58:00Z   \n",
              "4  5 Hour BTS Piano Playlist | Study & Relax with...  2021-01-01T10:58:00Z   \n",
              "\n",
              "    channel    views   likes  dislikes  comment_count  \\\n",
              "0  DooPiano  2444982  119269       501           3224   \n",
              "1  DooPiano  2444982  119269       501           3224   \n",
              "2  DooPiano  2444982  119269       501           3224   \n",
              "3  DooPiano  2444982  119269       501           3224   \n",
              "4  DooPiano  2444982  119269       501           3224   \n",
              "\n",
              "                                        comment_text          comment_author  \\\n",
              "0  ♪ Listen on Spotify!: https://spoti.fi/3gC9GfA...                DooPiano   \n",
              "1  My ears: *relaxing* My hands: *writing*  My le...             •ɱĭss süğą•   \n",
              "2  Parents: You have to make us proud  Partner: Y...  Leian Xyrielle Dayahan   \n",
              "3  Little boy: “Are you an angel?”  Girl: “What?”...                   Lisha   \n",
              "4  Reasons to live:    “Suicide doesn’t stop the ...               Grace Cho   \n",
              "\n",
              "           comment_date  comment_likes  \n",
              "0  2021-01-01T10:58:20Z           3884  \n",
              "1  2021-01-29T15:42:43Z           4077  \n",
              "2  2021-03-09T00:52:35Z            827  \n",
              "3  2021-02-12T15:48:08Z            921  \n",
              "4  2021-02-02T18:39:00Z           2248  "
            ],
            "text/html": [
              "\n",
              "  <div id=\"df-5209c3fd-183a-47ac-983f-8f37902acbc1\">\n",
              "    <div class=\"colab-df-container\">\n",
              "      <div>\n",
              "<style scoped>\n",
              "    .dataframe tbody tr th:only-of-type {\n",
              "        vertical-align: middle;\n",
              "    }\n",
              "\n",
              "    .dataframe tbody tr th {\n",
              "        vertical-align: top;\n",
              "    }\n",
              "\n",
              "    .dataframe thead th {\n",
              "        text-align: right;\n",
              "    }\n",
              "</style>\n",
              "<table border=\"1\" class=\"dataframe\">\n",
              "  <thead>\n",
              "    <tr style=\"text-align: right;\">\n",
              "      <th></th>\n",
              "      <th>query</th>\n",
              "      <th>url</th>\n",
              "      <th>title</th>\n",
              "      <th>upload_date</th>\n",
              "      <th>channel</th>\n",
              "      <th>views</th>\n",
              "      <th>likes</th>\n",
              "      <th>dislikes</th>\n",
              "      <th>comment_count</th>\n",
              "      <th>comment_text</th>\n",
              "      <th>comment_author</th>\n",
              "      <th>comment_date</th>\n",
              "      <th>comment_likes</th>\n",
              "    </tr>\n",
              "  </thead>\n",
              "  <tbody>\n",
              "    <tr>\n",
              "      <th>0</th>\n",
              "      <td>bts</td>\n",
              "      <td>https://www.youtube.com/watch?v=S8GpX3SAeig</td>\n",
              "      <td>5 Hour BTS Piano Playlist | Study &amp; Relax with...</td>\n",
              "      <td>2021-01-01T10:58:00Z</td>\n",
              "      <td>DooPiano</td>\n",
              "      <td>2444982</td>\n",
              "      <td>119269</td>\n",
              "      <td>501</td>\n",
              "      <td>3224</td>\n",
              "      <td>♪ Listen on Spotify!: https://spoti.fi/3gC9GfA...</td>\n",
              "      <td>DooPiano</td>\n",
              "      <td>2021-01-01T10:58:20Z</td>\n",
              "      <td>3884</td>\n",
              "    </tr>\n",
              "    <tr>\n",
              "      <th>1</th>\n",
              "      <td>bts</td>\n",
              "      <td>https://www.youtube.com/watch?v=S8GpX3SAeig</td>\n",
              "      <td>5 Hour BTS Piano Playlist | Study &amp; Relax with...</td>\n",
              "      <td>2021-01-01T10:58:00Z</td>\n",
              "      <td>DooPiano</td>\n",
              "      <td>2444982</td>\n",
              "      <td>119269</td>\n",
              "      <td>501</td>\n",
              "      <td>3224</td>\n",
              "      <td>My ears: *relaxing* My hands: *writing*  My le...</td>\n",
              "      <td>•ɱĭss süğą•</td>\n",
              "      <td>2021-01-29T15:42:43Z</td>\n",
              "      <td>4077</td>\n",
              "    </tr>\n",
              "    <tr>\n",
              "      <th>2</th>\n",
              "      <td>bts</td>\n",
              "      <td>https://www.youtube.com/watch?v=S8GpX3SAeig</td>\n",
              "      <td>5 Hour BTS Piano Playlist | Study &amp; Relax with...</td>\n",
              "      <td>2021-01-01T10:58:00Z</td>\n",
              "      <td>DooPiano</td>\n",
              "      <td>2444982</td>\n",
              "      <td>119269</td>\n",
              "      <td>501</td>\n",
              "      <td>3224</td>\n",
              "      <td>Parents: You have to make us proud  Partner: Y...</td>\n",
              "      <td>Leian Xyrielle Dayahan</td>\n",
              "      <td>2021-03-09T00:52:35Z</td>\n",
              "      <td>827</td>\n",
              "    </tr>\n",
              "    <tr>\n",
              "      <th>3</th>\n",
              "      <td>bts</td>\n",
              "      <td>https://www.youtube.com/watch?v=S8GpX3SAeig</td>\n",
              "      <td>5 Hour BTS Piano Playlist | Study &amp; Relax with...</td>\n",
              "      <td>2021-01-01T10:58:00Z</td>\n",
              "      <td>DooPiano</td>\n",
              "      <td>2444982</td>\n",
              "      <td>119269</td>\n",
              "      <td>501</td>\n",
              "      <td>3224</td>\n",
              "      <td>Little boy: “Are you an angel?”  Girl: “What?”...</td>\n",
              "      <td>Lisha</td>\n",
              "      <td>2021-02-12T15:48:08Z</td>\n",
              "      <td>921</td>\n",
              "    </tr>\n",
              "    <tr>\n",
              "      <th>4</th>\n",
              "      <td>bts</td>\n",
              "      <td>https://www.youtube.com/watch?v=S8GpX3SAeig</td>\n",
              "      <td>5 Hour BTS Piano Playlist | Study &amp; Relax with...</td>\n",
              "      <td>2021-01-01T10:58:00Z</td>\n",
              "      <td>DooPiano</td>\n",
              "      <td>2444982</td>\n",
              "      <td>119269</td>\n",
              "      <td>501</td>\n",
              "      <td>3224</td>\n",
              "      <td>Reasons to live:    “Suicide doesn’t stop the ...</td>\n",
              "      <td>Grace Cho</td>\n",
              "      <td>2021-02-02T18:39:00Z</td>\n",
              "      <td>2248</td>\n",
              "    </tr>\n",
              "  </tbody>\n",
              "</table>\n",
              "</div>\n",
              "      <button class=\"colab-df-convert\" onclick=\"convertToInteractive('df-5209c3fd-183a-47ac-983f-8f37902acbc1')\"\n",
              "              title=\"Convert this dataframe to an interactive table.\"\n",
              "              style=\"display:none;\">\n",
              "        \n",
              "  <svg xmlns=\"http://www.w3.org/2000/svg\" height=\"24px\"viewBox=\"0 0 24 24\"\n",
              "       width=\"24px\">\n",
              "    <path d=\"M0 0h24v24H0V0z\" fill=\"none\"/>\n",
              "    <path d=\"M18.56 5.44l.94 2.06.94-2.06 2.06-.94-2.06-.94-.94-2.06-.94 2.06-2.06.94zm-11 1L8.5 8.5l.94-2.06 2.06-.94-2.06-.94L8.5 2.5l-.94 2.06-2.06.94zm10 10l.94 2.06.94-2.06 2.06-.94-2.06-.94-.94-2.06-.94 2.06-2.06.94z\"/><path d=\"M17.41 7.96l-1.37-1.37c-.4-.4-.92-.59-1.43-.59-.52 0-1.04.2-1.43.59L10.3 9.45l-7.72 7.72c-.78.78-.78 2.05 0 2.83L4 21.41c.39.39.9.59 1.41.59.51 0 1.02-.2 1.41-.59l7.78-7.78 2.81-2.81c.8-.78.8-2.07 0-2.86zM5.41 20L4 18.59l7.72-7.72 1.47 1.35L5.41 20z\"/>\n",
              "  </svg>\n",
              "      </button>\n",
              "      \n",
              "  <style>\n",
              "    .colab-df-container {\n",
              "      display:flex;\n",
              "      flex-wrap:wrap;\n",
              "      gap: 12px;\n",
              "    }\n",
              "\n",
              "    .colab-df-convert {\n",
              "      background-color: #E8F0FE;\n",
              "      border: none;\n",
              "      border-radius: 50%;\n",
              "      cursor: pointer;\n",
              "      display: none;\n",
              "      fill: #1967D2;\n",
              "      height: 32px;\n",
              "      padding: 0 0 0 0;\n",
              "      width: 32px;\n",
              "    }\n",
              "\n",
              "    .colab-df-convert:hover {\n",
              "      background-color: #E2EBFA;\n",
              "      box-shadow: 0px 1px 2px rgba(60, 64, 67, 0.3), 0px 1px 3px 1px rgba(60, 64, 67, 0.15);\n",
              "      fill: #174EA6;\n",
              "    }\n",
              "\n",
              "    [theme=dark] .colab-df-convert {\n",
              "      background-color: #3B4455;\n",
              "      fill: #D2E3FC;\n",
              "    }\n",
              "\n",
              "    [theme=dark] .colab-df-convert:hover {\n",
              "      background-color: #434B5C;\n",
              "      box-shadow: 0px 1px 3px 1px rgba(0, 0, 0, 0.15);\n",
              "      filter: drop-shadow(0px 1px 2px rgba(0, 0, 0, 0.3));\n",
              "      fill: #FFFFFF;\n",
              "    }\n",
              "  </style>\n",
              "\n",
              "      <script>\n",
              "        const buttonEl =\n",
              "          document.querySelector('#df-5209c3fd-183a-47ac-983f-8f37902acbc1 button.colab-df-convert');\n",
              "        buttonEl.style.display =\n",
              "          google.colab.kernel.accessAllowed ? 'block' : 'none';\n",
              "\n",
              "        async function convertToInteractive(key) {\n",
              "          const element = document.querySelector('#df-5209c3fd-183a-47ac-983f-8f37902acbc1');\n",
              "          const dataTable =\n",
              "            await google.colab.kernel.invokeFunction('convertToInteractive',\n",
              "                                                     [key], {});\n",
              "          if (!dataTable) return;\n",
              "\n",
              "          const docLinkHtml = 'Like what you see? Visit the ' +\n",
              "            '<a target=\"_blank\" href=https://colab.research.google.com/notebooks/data_table.ipynb>data table notebook</a>'\n",
              "            + ' to learn more about interactive tables.';\n",
              "          element.innerHTML = '';\n",
              "          dataTable['output_type'] = 'display_data';\n",
              "          await google.colab.output.renderOutput(dataTable, element);\n",
              "          const docLink = document.createElement('div');\n",
              "          docLink.innerHTML = docLinkHtml;\n",
              "          element.appendChild(docLink);\n",
              "        }\n",
              "      </script>\n",
              "    </div>\n",
              "  </div>\n",
              "  "
            ]
          },
          "metadata": {},
          "execution_count": 5
        }
      ]
    },
    {
      "cell_type": "code",
      "source": [
        ""
      ],
      "metadata": {
        "id": "nvJMDc5_2PbE"
      },
      "execution_count": null,
      "outputs": []
    },
    {
      "cell_type": "code",
      "source": [
        "import spacy \n",
        "import nltk\n",
        "nlp = spacy.load('en', disable=['parser', 'ner'])"
      ],
      "metadata": {
        "id": "eC4zYJGrxXht"
      },
      "execution_count": null,
      "outputs": []
    },
    {
      "cell_type": "markdown",
      "source": [
        "**Tokenization**\n",
        "Tokenization is the action of breaking every sentence into indiviaul words."
      ],
      "metadata": {
        "id": "3Wfjxf1Q231O"
      }
    },
    {
      "cell_type": "code",
      "source": [
        "# Reading the second comment from the dataset\n",
        "comment_text = bts_df.iloc[1][\"comment_text\"]\n",
        "comment_text"
      ],
      "metadata": {
        "colab": {
          "base_uri": "https://localhost:8080/",
          "height": 35
        },
        "id": "ITfsaAegwii1",
        "outputId": "8ca5f233-06e4-441a-9bc8-61977c1541a8"
      },
      "execution_count": null,
      "outputs": [
        {
          "output_type": "execute_result",
          "data": {
            "text/plain": [
              "\"My ears: *relaxing* My hands: *writing*  My legs: *dancing* My mouth: *singin'*\""
            ],
            "application/vnd.google.colaboratory.intrinsic+json": {
              "type": "string"
            }
          },
          "metadata": {},
          "execution_count": 25
        }
      ]
    },
    {
      "cell_type": "markdown",
      "source": [
        "Perfoming tokenization with NLTK.\n"
      ],
      "metadata": {
        "id": "CN5g-BkU4ujs"
      }
    },
    {
      "cell_type": "code",
      "source": [
        "import nltk\n",
        "nltk.download('punkt')"
      ],
      "metadata": {
        "colab": {
          "base_uri": "https://localhost:8080/"
        },
        "id": "YrhvYj1q4OQM",
        "outputId": "210377b5-676d-4c6b-8408-e845cc6159bc"
      },
      "execution_count": null,
      "outputs": [
        {
          "output_type": "stream",
          "name": "stdout",
          "text": [
            "[nltk_data] Downloading package punkt to /root/nltk_data...\n",
            "[nltk_data]   Package punkt is already up-to-date!\n"
          ]
        },
        {
          "output_type": "execute_result",
          "data": {
            "text/plain": [
              "True"
            ]
          },
          "metadata": {},
          "execution_count": 17
        }
      ]
    },
    {
      "cell_type": "code",
      "source": [
        "from nltk.tokenize import word_tokenize\n",
        "\n",
        "print(word_tokenize(comment_text))"
      ],
      "metadata": {
        "colab": {
          "base_uri": "https://localhost:8080/"
        },
        "id": "65fepECF3vuB",
        "outputId": "577a5d37-7fee-4706-8988-8331eb47d559"
      },
      "execution_count": null,
      "outputs": [
        {
          "output_type": "stream",
          "name": "stdout",
          "text": [
            "['My', 'ears', ':', '*relaxing*', 'My', 'hands', ':', '*writing*', 'My', 'legs', ':', '*dancing*', 'My', 'mouth', ':', \"*singin'*\"]\n"
          ]
        }
      ]
    },
    {
      "cell_type": "markdown",
      "source": [
        "Perfoming tokenization with Sparcy.\n"
      ],
      "metadata": {
        "id": "niJH1WM94UMU"
      }
    },
    {
      "cell_type": "code",
      "source": [
        "print([str(token) for token in nlp(comment_text) if not token.is_punct])"
      ],
      "metadata": {
        "colab": {
          "base_uri": "https://localhost:8080/"
        },
        "id": "8Chbg1Hk4YOT",
        "outputId": "1ca8e0bc-6555-4ccf-9cd2-18856d184826"
      },
      "execution_count": null,
      "outputs": [
        {
          "output_type": "stream",
          "name": "stdout",
          "text": [
            "['My', 'ears', 'relaxing', 'My', 'hands', 'writing', ' ', 'My', 'legs', 'dancing', 'My', 'mouth', 'singin']\n"
          ]
        }
      ]
    },
    {
      "cell_type": "markdown",
      "source": [
        "Next step is to remove useless information. For example, symbols, digits, punctuations. I will use spacy combined with regex."
      ],
      "metadata": {
        "id": "L6YPA8GO7Q6W"
      }
    },
    {
      "cell_type": "code",
      "source": [
        "import re\n",
        "\n",
        "# Tokenization and removal of punctuation marks\n",
        "words = [str(token) for token in nlp(comment_text) if not token.is_punct]\n",
        "\n",
        "# Remove digits and other symbols except \"@\" -- used to remove email\n",
        "words = [re.sub(r\"[^A-Za-z@]\", \"\", word) for word in words]\n",
        "\n",
        "# Remove websites and email address\n",
        "words = [re.sub(r\"\\S+com\", \"\", word) for word in words]\n",
        "words = [re.sub(r\"S+@\\S\", \"\", word) for word in words]\n",
        "\n",
        "# Remove empty spaces\n",
        "words = [word for word in words if word !=' ']\n",
        "\n",
        "words"
      ],
      "metadata": {
        "colab": {
          "base_uri": "https://localhost:8080/"
        },
        "id": "6M0BTAx_7g1T",
        "outputId": "29b547e2-ef60-4834-d740-54a42f4ae8dd"
      },
      "execution_count": null,
      "outputs": [
        {
          "output_type": "execute_result",
          "data": {
            "text/plain": [
              "['My',\n",
              " 'ears',\n",
              " 'relaxing',\n",
              " 'My',\n",
              " 'hands',\n",
              " 'writing',\n",
              " '',\n",
              " 'My',\n",
              " 'legs',\n",
              " 'dancing',\n",
              " 'My',\n",
              " 'mouth',\n",
              " 'singin']"
            ]
          },
          "metadata": {},
          "execution_count": 31
        }
      ]
    },
    {
      "cell_type": "markdown",
      "source": [
        "**Stopwords**\n",
        "\n",
        "\n",
        "Next step in preprocessing the data is to remove useless words, for example, \"and\", \"we\",\"I\", \"My\", \"a\", \"of\" etc. \n",
        "\n",
        "Stopwords are words that frequently appear in written documents but don't have a significant meanings.\n",
        "\n",
        "We can import the stopwords from the NLTK library."
      ],
      "metadata": {
        "id": "juxOJ_039s7H"
      }
    },
    {
      "cell_type": "code",
      "source": [
        "nltk.download('stopwords')"
      ],
      "metadata": {
        "colab": {
          "base_uri": "https://localhost:8080/"
        },
        "id": "sH-yO3Ce_5QI",
        "outputId": "976ad318-6b20-4891-ecc8-a34a79825477"
      },
      "execution_count": null,
      "outputs": [
        {
          "output_type": "stream",
          "name": "stdout",
          "text": [
            "[nltk_data] Downloading package stopwords to /root/nltk_data...\n",
            "[nltk_data]   Unzipping corpora/stopwords.zip.\n"
          ]
        },
        {
          "output_type": "execute_result",
          "data": {
            "text/plain": [
              "True"
            ]
          },
          "metadata": {},
          "execution_count": 33
        }
      ]
    },
    {
      "cell_type": "code",
      "source": [
        "# importing list of stopwords\n",
        "stopwords = nltk.corpus.stopwords.words(\"english\")\n",
        "\n",
        "# lowercase stopwords\n",
        "stopwords = [s.lower() for s in stopwords]\n",
        "\n",
        "# exclude the stopwords from the comments\n",
        "words = [word.lower() for word in words if word.lower() not in stopwords]\n",
        "\n",
        "# view comment without stopwords\n",
        "words"
      ],
      "metadata": {
        "colab": {
          "base_uri": "https://localhost:8080/"
        },
        "id": "6o-ziRWD_E9h",
        "outputId": "9fc6d072-54bd-43f2-f6e2-eef4a4c2727f"
      },
      "execution_count": null,
      "outputs": [
        {
          "output_type": "execute_result",
          "data": {
            "text/plain": [
              "['ears',\n",
              " 'relaxing',\n",
              " 'hands',\n",
              " 'writing',\n",
              " '',\n",
              " 'legs',\n",
              " 'dancing',\n",
              " 'mouth',\n",
              " 'singin']"
            ]
          },
          "metadata": {},
          "execution_count": 34
        }
      ]
    },
    {
      "cell_type": "markdown",
      "source": [
        "**Lemmatization**\n",
        "\n",
        "This step is about converting words to its original form.\n",
        "\n",
        "This transformation is implemented with Spacy. After lemmatization, each comment will transform into a list of words that are all in their original forms."
      ],
      "metadata": {
        "id": "KnhoUefQ_-L0"
      }
    },
    {
      "cell_type": "code",
      "source": [
        "words_a = [token.lemma_ for token in nlp(comment_text) if not token.is_punct]\n",
        "words_a"
      ],
      "metadata": {
        "colab": {
          "base_uri": "https://localhost:8080/"
        },
        "id": "ivUw9M--AiAp",
        "outputId": "9bea8432-62ad-475b-d8c0-3b1db75986e7"
      },
      "execution_count": null,
      "outputs": [
        {
          "output_type": "execute_result",
          "data": {
            "text/plain": [
              "['-PRON-',\n",
              " 'ear',\n",
              " 'relax',\n",
              " '-PRON-',\n",
              " 'hand',\n",
              " 'writing',\n",
              " ' ',\n",
              " '-PRON-',\n",
              " 'leg',\n",
              " 'dance',\n",
              " '-PRON-',\n",
              " 'mouth',\n",
              " 'singin']"
            ]
          },
          "metadata": {},
          "execution_count": 38
        }
      ]
    },
    {
      "cell_type": "markdown",
      "source": [
        "**Preprocess data function**\n",
        "\n",
        "Wrapping up all the steps and creating a magic function that performs all the data pre-processing.\n",
        "\n",
        "\n",
        "The \"title\" and \"comment_text\" are the columns that I will apply text preprocessing procedures on."
      ],
      "metadata": {
        "id": "xmVQ4xF7A_Jv"
      }
    },
    {
      "cell_type": "code",
      "source": [
        "comment_df = bts_df[[\"title\",\"comment_text\"]]\n",
        "comment_df"
      ],
      "metadata": {
        "colab": {
          "base_uri": "https://localhost:8080/",
          "height": 423
        },
        "id": "ZYtFkFFO53vX",
        "outputId": "8eb61b7e-9fe4-46c9-fc00-3373f22df2c0"
      },
      "execution_count": null,
      "outputs": [
        {
          "output_type": "execute_result",
          "data": {
            "text/plain": [
              "                                                   title  \\\n",
              "0      5 Hour BTS Piano Playlist | Study & Relax with...   \n",
              "1      5 Hour BTS Piano Playlist | Study & Relax with...   \n",
              "2      5 Hour BTS Piano Playlist | Study & Relax with...   \n",
              "3      5 Hour BTS Piano Playlist | Study & Relax with...   \n",
              "4      5 Hour BTS Piano Playlist | Study & Relax with...   \n",
              "...                                                  ...   \n",
              "28286  BTS OF BHAI KI JOURNEY | INTRODUCTION (PART 1)...   \n",
              "28287  BTS OF BHAI KI JOURNEY | INTRODUCTION (PART 1)...   \n",
              "28288  BTS OF BHAI KI JOURNEY | INTRODUCTION (PART 1)...   \n",
              "28289  BTS OF BHAI KI JOURNEY | INTRODUCTION (PART 1)...   \n",
              "28290  BTS OF BHAI KI JOURNEY | INTRODUCTION (PART 1)...   \n",
              "\n",
              "                                            comment_text  \n",
              "0      ♪ Listen on Spotify!: https://spoti.fi/3gC9GfA...  \n",
              "1      My ears: *relaxing* My hands: *writing*  My le...  \n",
              "2      Parents: You have to make us proud  Partner: Y...  \n",
              "3      Little boy: “Are you an angel?”  Girl: “What?”...  \n",
              "4      Reasons to live:    “Suicide doesn’t stop the ...  \n",
              "...                                                  ...  \n",
              "28286                                               Kdkk  \n",
              "28287                           Dusra part kadhi yetoy 🙄  \n",
              "28288                                              😁😁😂😂😂  \n",
              "28289           Kay tha bhai ye 🤔🤔🤔 but achhha tha 👍🐱🐱🐱😁  \n",
              "28290                                      Kadak ha😂❤️👍😘  \n",
              "\n",
              "[28291 rows x 2 columns]"
            ],
            "text/html": [
              "\n",
              "  <div id=\"df-ac35dc92-f276-4bee-a37b-f5182da9d107\">\n",
              "    <div class=\"colab-df-container\">\n",
              "      <div>\n",
              "<style scoped>\n",
              "    .dataframe tbody tr th:only-of-type {\n",
              "        vertical-align: middle;\n",
              "    }\n",
              "\n",
              "    .dataframe tbody tr th {\n",
              "        vertical-align: top;\n",
              "    }\n",
              "\n",
              "    .dataframe thead th {\n",
              "        text-align: right;\n",
              "    }\n",
              "</style>\n",
              "<table border=\"1\" class=\"dataframe\">\n",
              "  <thead>\n",
              "    <tr style=\"text-align: right;\">\n",
              "      <th></th>\n",
              "      <th>title</th>\n",
              "      <th>comment_text</th>\n",
              "    </tr>\n",
              "  </thead>\n",
              "  <tbody>\n",
              "    <tr>\n",
              "      <th>0</th>\n",
              "      <td>5 Hour BTS Piano Playlist | Study &amp; Relax with...</td>\n",
              "      <td>♪ Listen on Spotify!: https://spoti.fi/3gC9GfA...</td>\n",
              "    </tr>\n",
              "    <tr>\n",
              "      <th>1</th>\n",
              "      <td>5 Hour BTS Piano Playlist | Study &amp; Relax with...</td>\n",
              "      <td>My ears: *relaxing* My hands: *writing*  My le...</td>\n",
              "    </tr>\n",
              "    <tr>\n",
              "      <th>2</th>\n",
              "      <td>5 Hour BTS Piano Playlist | Study &amp; Relax with...</td>\n",
              "      <td>Parents: You have to make us proud  Partner: Y...</td>\n",
              "    </tr>\n",
              "    <tr>\n",
              "      <th>3</th>\n",
              "      <td>5 Hour BTS Piano Playlist | Study &amp; Relax with...</td>\n",
              "      <td>Little boy: “Are you an angel?”  Girl: “What?”...</td>\n",
              "    </tr>\n",
              "    <tr>\n",
              "      <th>4</th>\n",
              "      <td>5 Hour BTS Piano Playlist | Study &amp; Relax with...</td>\n",
              "      <td>Reasons to live:    “Suicide doesn’t stop the ...</td>\n",
              "    </tr>\n",
              "    <tr>\n",
              "      <th>...</th>\n",
              "      <td>...</td>\n",
              "      <td>...</td>\n",
              "    </tr>\n",
              "    <tr>\n",
              "      <th>28286</th>\n",
              "      <td>BTS OF BHAI KI JOURNEY | INTRODUCTION (PART 1)...</td>\n",
              "      <td>Kdkk</td>\n",
              "    </tr>\n",
              "    <tr>\n",
              "      <th>28287</th>\n",
              "      <td>BTS OF BHAI KI JOURNEY | INTRODUCTION (PART 1)...</td>\n",
              "      <td>Dusra part kadhi yetoy 🙄</td>\n",
              "    </tr>\n",
              "    <tr>\n",
              "      <th>28288</th>\n",
              "      <td>BTS OF BHAI KI JOURNEY | INTRODUCTION (PART 1)...</td>\n",
              "      <td>😁😁😂😂😂</td>\n",
              "    </tr>\n",
              "    <tr>\n",
              "      <th>28289</th>\n",
              "      <td>BTS OF BHAI KI JOURNEY | INTRODUCTION (PART 1)...</td>\n",
              "      <td>Kay tha bhai ye 🤔🤔🤔 but achhha tha 👍🐱🐱🐱😁</td>\n",
              "    </tr>\n",
              "    <tr>\n",
              "      <th>28290</th>\n",
              "      <td>BTS OF BHAI KI JOURNEY | INTRODUCTION (PART 1)...</td>\n",
              "      <td>Kadak ha😂❤️👍😘</td>\n",
              "    </tr>\n",
              "  </tbody>\n",
              "</table>\n",
              "<p>28291 rows × 2 columns</p>\n",
              "</div>\n",
              "      <button class=\"colab-df-convert\" onclick=\"convertToInteractive('df-ac35dc92-f276-4bee-a37b-f5182da9d107')\"\n",
              "              title=\"Convert this dataframe to an interactive table.\"\n",
              "              style=\"display:none;\">\n",
              "        \n",
              "  <svg xmlns=\"http://www.w3.org/2000/svg\" height=\"24px\"viewBox=\"0 0 24 24\"\n",
              "       width=\"24px\">\n",
              "    <path d=\"M0 0h24v24H0V0z\" fill=\"none\"/>\n",
              "    <path d=\"M18.56 5.44l.94 2.06.94-2.06 2.06-.94-2.06-.94-.94-2.06-.94 2.06-2.06.94zm-11 1L8.5 8.5l.94-2.06 2.06-.94-2.06-.94L8.5 2.5l-.94 2.06-2.06.94zm10 10l.94 2.06.94-2.06 2.06-.94-2.06-.94-.94-2.06-.94 2.06-2.06.94z\"/><path d=\"M17.41 7.96l-1.37-1.37c-.4-.4-.92-.59-1.43-.59-.52 0-1.04.2-1.43.59L10.3 9.45l-7.72 7.72c-.78.78-.78 2.05 0 2.83L4 21.41c.39.39.9.59 1.41.59.51 0 1.02-.2 1.41-.59l7.78-7.78 2.81-2.81c.8-.78.8-2.07 0-2.86zM5.41 20L4 18.59l7.72-7.72 1.47 1.35L5.41 20z\"/>\n",
              "  </svg>\n",
              "      </button>\n",
              "      \n",
              "  <style>\n",
              "    .colab-df-container {\n",
              "      display:flex;\n",
              "      flex-wrap:wrap;\n",
              "      gap: 12px;\n",
              "    }\n",
              "\n",
              "    .colab-df-convert {\n",
              "      background-color: #E8F0FE;\n",
              "      border: none;\n",
              "      border-radius: 50%;\n",
              "      cursor: pointer;\n",
              "      display: none;\n",
              "      fill: #1967D2;\n",
              "      height: 32px;\n",
              "      padding: 0 0 0 0;\n",
              "      width: 32px;\n",
              "    }\n",
              "\n",
              "    .colab-df-convert:hover {\n",
              "      background-color: #E2EBFA;\n",
              "      box-shadow: 0px 1px 2px rgba(60, 64, 67, 0.3), 0px 1px 3px 1px rgba(60, 64, 67, 0.15);\n",
              "      fill: #174EA6;\n",
              "    }\n",
              "\n",
              "    [theme=dark] .colab-df-convert {\n",
              "      background-color: #3B4455;\n",
              "      fill: #D2E3FC;\n",
              "    }\n",
              "\n",
              "    [theme=dark] .colab-df-convert:hover {\n",
              "      background-color: #434B5C;\n",
              "      box-shadow: 0px 1px 3px 1px rgba(0, 0, 0, 0.15);\n",
              "      filter: drop-shadow(0px 1px 2px rgba(0, 0, 0, 0.3));\n",
              "      fill: #FFFFFF;\n",
              "    }\n",
              "  </style>\n",
              "\n",
              "      <script>\n",
              "        const buttonEl =\n",
              "          document.querySelector('#df-ac35dc92-f276-4bee-a37b-f5182da9d107 button.colab-df-convert');\n",
              "        buttonEl.style.display =\n",
              "          google.colab.kernel.accessAllowed ? 'block' : 'none';\n",
              "\n",
              "        async function convertToInteractive(key) {\n",
              "          const element = document.querySelector('#df-ac35dc92-f276-4bee-a37b-f5182da9d107');\n",
              "          const dataTable =\n",
              "            await google.colab.kernel.invokeFunction('convertToInteractive',\n",
              "                                                     [key], {});\n",
              "          if (!dataTable) return;\n",
              "\n",
              "          const docLinkHtml = 'Like what you see? Visit the ' +\n",
              "            '<a target=\"_blank\" href=https://colab.research.google.com/notebooks/data_table.ipynb>data table notebook</a>'\n",
              "            + ' to learn more about interactive tables.';\n",
              "          element.innerHTML = '';\n",
              "          dataTable['output_type'] = 'display_data';\n",
              "          await google.colab.output.renderOutput(dataTable, element);\n",
              "          const docLink = document.createElement('div');\n",
              "          docLink.innerHTML = docLinkHtml;\n",
              "          element.appendChild(docLink);\n",
              "        }\n",
              "      </script>\n",
              "    </div>\n",
              "  </div>\n",
              "  "
            ]
          },
          "metadata": {},
          "execution_count": 29
        }
      ]
    },
    {
      "cell_type": "code",
      "source": [
        "def text_preprocessing(input):\n",
        "  # Applying tokenization, removal of punctuation and lemmatization\n",
        "  words = [token.lemma_ for token in nlp(input) if not token.is_punct]\n",
        "\n",
        "  # Remove digits and other symbols except \"@\" -- used to remove email\n",
        "  words = [re.sub(r\"[^A-Za-z@]\", \"\", word) for word in words]\n",
        "\n",
        "  # Remove websites and email address\n",
        "  words = [re.sub(r\"\\S+com\", \"\", word) for word in words]\n",
        "  words = [re.sub(r\"S+@\\S\", \"\", word) for word in words]\n",
        "\n",
        "  # Remove empty spaces\n",
        "  words = [word for word in words if word !=' ']    \n",
        "  words = [word for word in words if len(word)!=0]\n"
      ],
      "metadata": {
        "id": "CbZT3N8FBhN-"
      },
      "execution_count": null,
      "outputs": []
    },
    {
      "cell_type": "markdown",
      "source": [
        ""
      ],
      "metadata": {
        "id": "-50NaroC1_l9"
      }
    }
  ]
}